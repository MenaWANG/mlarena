{
 "cells": [
  {
   "cell_type": "markdown",
   "id": "39a93a9f",
   "metadata": {},
   "source": [
    "# Power Analysis for A/B Testing with MLArena\n",
    "\n",
    "This notebook demonstrates how to use MLArena's power analysis functionality to plan A/B tests with appropriate sample sizes.\n",
    "\n",
    "Power analysis helps you answer critical questions like:\n",
    "- How many users do I need to detect a meaningful difference?\n",
    "- What's the smallest effect I can reliably detect with my current sample size?\n",
    "- With a given sample size, what's the probability I'll detect an effect if it truly exists?"
   ]
  },
  {
   "cell_type": "code",
   "execution_count": 1,
   "id": "f1fca96e",
   "metadata": {},
   "outputs": [],
   "source": [
    "import pandas as pd\n",
    "import numpy as np\n",
    "import mlarena.utils.stats_utils as sut\n",
    "\n",
    "# Set random seed for reproducibility\n",
    "np.random.seed(42)"
   ]
  },
  {
   "cell_type": "markdown",
   "id": "3f28b785",
   "metadata": {},
   "source": [
    "## 1. Power Analysis for Proportions\n",
    "\n",
    "Let's say you're testing a new flow on a website and want to improve conversion from 5% to 6%."
   ]
  },
  {
   "cell_type": "markdown",
   "id": "c4dfa745",
   "metadata": {},
   "source": [
    "### 1.1 Estimating Required Sample Size"
   ]
  },
  {
   "cell_type": "code",
   "execution_count": 2,
   "id": "620ec2cd",
   "metadata": {},
   "outputs": [
    {
     "name": "stdout",
     "output_type": "stream",
     "text": [
      "Sample Size Analysis for Conversion Rate Test\n",
      "==================================================\n",
      "Baseline conversion rate: 5.0%\n",
      "Target conversion rate: 6.0%\n",
      "Relative lift: 20.0%\n",
      "Absolute lift: 1.0 percentage points\n",
      "\n",
      "Required sample size per group: 8,143\n",
      "Total sample size needed: 16,286\n",
      "Effect size (Cohen's h): 0.044\n"
     ]
    }
   ],
   "source": [
    "# Question: How many users per group do I need to detect a 5% -> 6% conversion improvement with 80% power?\n",
    "sample_size_result = sut.sample_size_proportion(\n",
    "    baseline_rate=0.05,\n",
    "    treatment_rate=0.06,\n",
    "    power=0.8,\n",
    "    alpha=0.05\n",
    ")\n",
    "\n",
    "print(\"Sample Size Analysis for Conversion Rate Test\")\n",
    "print(\"=\" * 50)\n",
    "print(f\"Baseline conversion rate: {sample_size_result['baseline_rate']*100:.1f}%\")\n",
    "print(f\"Target conversion rate: {sample_size_result['treatment_rate']*100:.1f}%\")\n",
    "print(f\"Relative lift: {sample_size_result['relative_lift']*100:.1f}%\")\n",
    "print(f\"Absolute lift: {sample_size_result['absolute_lift']*100:.1f} percentage points\")\n",
    "print(f\"\\nRequired sample size per group: {sample_size_result['sample_size_per_group']:,}\")\n",
    "print(f\"Total sample size needed: {sample_size_result['total_sample_size']:,}\")\n",
    "print(f\"Effect size (Cohen's h): {sample_size_result['effect_size']:.3f}\")"
   ]
  },
  {
   "cell_type": "markdown",
   "id": "0ec3acba",
   "metadata": {},
   "source": [
    "### 1.2 Estimating Power"
   ]
  },
  {
   "cell_type": "code",
   "execution_count": 15,
   "id": "39f090fc",
   "metadata": {},
   "outputs": [
    {
     "name": "stdout",
     "output_type": "stream",
     "text": [
      "Power Analysis with Fixed Sample Size\n",
      "========================================\n",
      "Sample size per group: 10000\n",
      "Power to detect a 5% -> 6% improvement: 87.4%\n",
      "\n",
      "Interpretation: There's a 87.4% chance of detecting the improvement if it truly exists.\n"
     ]
    }
   ],
   "source": [
    "# Question: What if I can get 10,000 users per group? What's my power?\n",
    "group_size = 10000\n",
    "power_result = sut.power_analysis_proportion(\n",
    "    baseline_rate=0.05,\n",
    "    treatment_rate=0.06,\n",
    "    sample_size_per_group=group_size\n",
    ")\n",
    "\n",
    "print(\"Power Analysis with Fixed Sample Size\")\n",
    "print(\"=\" * 40)\n",
    "print(f\"Sample size per group: {group_size}\")\n",
    "print(f\"Power to detect a 5% -> 6% improvement: {power_result['power']*100:.1f}%\")\n",
    "print(f\"\\nInterpretation: There's a {power_result['power']*100:.1f}% chance of detecting the improvement if it truly exists.\")\n"
   ]
  },
  {
   "cell_type": "code",
   "execution_count": 16,
   "id": "f650b430",
   "metadata": {},
   "outputs": [
    {
     "name": "stdout",
     "output_type": "stream",
     "text": [
      "Power Analysis with Fixed Sample Size\n",
      "========================================\n",
      "Sample size per group: 5000\n",
      "Power to detect a 5% -> 6% improvement: 59.3%\n",
      "\n",
      "Interpretation: There's a 59.3% chance of detecting the improvement if it truly exists.\n"
     ]
    }
   ],
   "source": [
    "# Question: What if I can only get 5,000 users per group? What's my power?\n",
    "group_size = 5000\n",
    "power_result = sut.power_analysis_proportion(\n",
    "    baseline_rate=0.05,\n",
    "    treatment_rate=0.06,\n",
    "    sample_size_per_group=group_size\n",
    ")\n",
    "\n",
    "print(\"Power Analysis with Fixed Sample Size\")\n",
    "print(\"=\" * 40)\n",
    "print(f\"Sample size per group: {group_size}\")\n",
    "print(f\"Power to detect a 5% -> 6% improvement: {power_result['power']*100:.1f}%\")\n",
    "print(f\"\\nInterpretation: There's a {power_result['power']*100:.1f}% chance of detecting the improvement if it truly exists.\")"
   ]
  },
  {
   "cell_type": "markdown",
   "id": "ae9ed1ad",
   "metadata": {},
   "source": [
    "## 2. Choosing the Right Power Level: Best Practices\n",
    "\n",
    "Power represents the probability of detecting a true effect when it exists. 80% power (0.8) is the industry standard, but the right choice depends on your context:\n",
    "\n",
    "- **80% (0.8)**: Industry standard, good balance of cost vs. risk\n",
    "- **90% (0.9)**: Higher confidence, but requires ~30% more samples\n",
    "- **70% (0.7)**: Lower cost, but higher risk of missing real effects\n",
    "\n"
   ]
  },
  {
   "cell_type": "code",
   "execution_count": 5,
   "id": "6cf9076b",
   "metadata": {},
   "outputs": [
    {
     "name": "stdout",
     "output_type": "stream",
     "text": [
      "Sample Size Requirements by Power Level\n",
      "=============================================\n",
      "Scenario: Detect 5% -> 6% conversion improvement\n",
      "\n",
      "Power Sample per Group Total Sample Risk of Missing Effect Relative to 80%\n",
      "  70%            6,403       12,806                    30%            0.8x\n",
      "  80%            8,143       16,286                    20%            1.0x\n",
      "  90%           10,901       21,802                    10%            1.3x\n",
      "  95%           13,482       26,964                     5%            1.7x\n"
     ]
    }
   ],
   "source": [
    "# Demonstrate the cost of different power levels\n",
    "print(\"Sample Size Requirements by Power Level\")\n",
    "print(\"=\" * 45)\n",
    "print(\"Scenario: Detect 5% -> 6% conversion improvement\\n\")\n",
    "\n",
    "power_levels = [0.7, 0.8, 0.9, 0.95]\n",
    "power_comparison = []\n",
    "\n",
    "for power in power_levels:\n",
    "    result = sut.sample_size_proportion(0.05, 0.06, power=power)\n",
    "    power_comparison.append({\n",
    "        'Power': f\"{power*100:.0f}%\",\n",
    "        'Sample per Group': f\"{result['sample_size_per_group']:,}\",\n",
    "        'Total Sample': f\"{result['total_sample_size']:,}\",\n",
    "        'Risk of Missing Effect': f\"{(1-power)*100:.0f}%\",\n",
    "        'Relative to 80%': f\"{result['sample_size_per_group']/sut.sample_size_proportion(0.05, 0.06, power=0.8)['sample_size_per_group']:.1f}x\"\n",
    "    })\n",
    "\n",
    "power_df = pd.DataFrame(power_comparison)\n",
    "print(power_df.to_string(index=False))"
   ]
  },
  {
   "cell_type": "markdown",
   "id": "b1a5766d",
   "metadata": {},
   "source": [
    "## 3. Power Analysis for Numeric Metrics\n",
    "\n",
    "Let's say we would like to develop A/B test to detect change in numeric metrics such as Revenue or session duration."
   ]
  },
  {
   "cell_type": "markdown",
   "id": "ccb60a34",
   "metadata": {},
   "source": [
    "### 3.1 Estimating Required Sample Size"
   ]
  },
  {
   "cell_type": "code",
   "execution_count": 6,
   "id": "7c73288a",
   "metadata": {},
   "outputs": [
    {
     "name": "stdout",
     "output_type": "stream",
     "text": [
      "Sample Size Analysis for Numeric Metrics\n",
      "=============================================\n",
      "Effect size (Cohen's d): 0.5\n",
      "Required sample size per group: 34\n",
      "Total sample size needed: 68\n"
     ]
    }
   ],
   "source": [
    "# Question: How many users do I need to detect a \"medium\" effect size (Cohen's d = 0.5)?\n",
    "sample_size_numeric_result = sut.sample_size_numeric(\n",
    "    effect_size=0.5,  # Medium effect size\n",
    "    power=0.8,\n",
    "    alpha=0.05\n",
    ")\n",
    "\n",
    "print(\"Sample Size Analysis for Numeric Metrics\")\n",
    "print(\"=\" * 45)\n",
    "print(f\"Effect size (Cohen's d): {sample_size_numeric_result['effect_size']}\")\n",
    "print(f\"Required sample size per group: {sample_size_numeric_result['sample_size_per_group']}\")\n",
    "print(f\"Total sample size needed: {sample_size_numeric_result['total_sample_size']}\")"
   ]
  },
  {
   "cell_type": "code",
   "execution_count": 7,
   "id": "1effbf4a",
   "metadata": {},
   "outputs": [
    {
     "name": "stdout",
     "output_type": "stream",
     "text": [
      "Sample Size Requirements by Effect Size\n",
      "=============================================\n",
      " Effect Size Interpretation  Sample per Group  Total Sample\n",
      "         0.1     Very Small               787          1574\n",
      "         0.2          Small               199           398\n",
      "         0.3          Small                90           180\n",
      "         0.5         Medium                34            68\n",
      "         0.8          Large                15            30\n"
     ]
    }
   ],
   "source": [
    "# Create a comparison table for different effect sizes\n",
    "effect_sizes = [0.1, 0.2, 0.3, 0.5, 0.8]\n",
    "results = []\n",
    "\n",
    "for es in effect_sizes:\n",
    "    result = sut.sample_size_numeric(effect_size=es, power=0.8)\n",
    "    results.append({\n",
    "        'Effect Size': es,\n",
    "        'Interpretation': 'Very Small' if es < 0.2 else 'Small' if es < 0.5 else 'Medium' if es < 0.8 else 'Large',\n",
    "        'Sample per Group': result['sample_size_per_group'],\n",
    "        'Total Sample': result['total_sample_size']\n",
    "    })\n",
    "\n",
    "comparison_df = pd.DataFrame(results)\n",
    "print(\"Sample Size Requirements by Effect Size\")\n",
    "print(\"=\" * 45)\n",
    "print(comparison_df.to_string(index=False))"
   ]
  },
  {
   "cell_type": "markdown",
   "id": "cf5cac54",
   "metadata": {},
   "source": [
    "### 3.2 Estimating Power\n",
    "\n"
   ]
  },
  {
   "cell_type": "code",
   "execution_count": 12,
   "id": "447b1a03",
   "metadata": {},
   "outputs": [
    {
     "name": "stdout",
     "output_type": "stream",
     "text": [
      "Power Analysis with Fixed Sample Size\n",
      "========================================\n",
      "Sample size per group: 100\n",
      "Power to detect an effect size of 0.2: 50.8%\n",
      "\n",
      "Interpretation: There's a 50.8% chance of detecting the effect if it truly exists\n"
     ]
    }
   ],
   "source": [
    "# Question: I am interested in detecting even a small effect size of 0.2. What if I can only get 100 users per group? What's my power?\n",
    "group_size = 100\n",
    "effect_size = 0.2\n",
    "power_result = sut.power_analysis_numeric(\n",
    "    effect_size=effect_size,\n",
    "    alpha=0.05,\n",
    "    sample_size_per_group=group_size\n",
    ")\n",
    "\n",
    "print(\"Power Analysis with Fixed Sample Size\")\n",
    "print(\"=\" * 40)\n",
    "print(f\"Sample size per group: {group_size}\")\n",
    "print(f\"Power to detect an effect size of {effect_size:.1f}: {power_result['power']*100:.1f}%\")\n",
    "print(f\"\\nInterpretation: There's a {power_result['power']*100:.1f}% chance of detecting the effect if it truly exists\")"
   ]
  },
  {
   "cell_type": "code",
   "execution_count": 13,
   "id": "1e8664cb",
   "metadata": {},
   "outputs": [
    {
     "name": "stdout",
     "output_type": "stream",
     "text": [
      "Power Analysis with Fixed Sample Size\n",
      "========================================\n",
      "Sample size per group: 100\n",
      "Power to detect an effect size of 0.5: 99.9%\n",
      "\n",
      "Interpretation: There's a 99.9% chance of detecting the effect if it truly exists\n"
     ]
    }
   ],
   "source": [
    "# Question: I am only interested in detecting the effect if it is of medium size of 0.5. And I have 100 users per group? What's my power?\n",
    "group_size = 100\n",
    "effect_size = 0.5\n",
    "power_result = sut.power_analysis_numeric(\n",
    "    effect_size=effect_size,\n",
    "    alpha=0.05,\n",
    "    sample_size_per_group=group_size\n",
    ")\n",
    "\n",
    "print(\"Power Analysis with Fixed Sample Size\")\n",
    "print(\"=\" * 40)\n",
    "print(f\"Sample size per group: {group_size}\")\n",
    "print(f\"Power to detect an effect size of {effect_size:.1f}: {power_result['power']*100:.1f}%\")\n",
    "print(f\"\\nInterpretation: There's a {power_result['power']*100:.1f}% chance of detecting the effect if it truly exists\")"
   ]
  },
  {
   "cell_type": "markdown",
   "id": "db390b30",
   "metadata": {},
   "source": [
    "### 3.3 Calculate Effect Size \n",
    "\n",
    "**Different Types of Effect Size for Numeric Targets**   \n",
    "There’s no one-size-fits-all metric. Different experimental designs call for different measures of effect size.\n",
    "\n",
    "\n",
    "\n",
    "| Effect Size Metric | Scenario                                      | Formula Highlights                                            |\n",
    "| ------------------ | --------------------------------------------- | ------------------------------------------------------------- |\n",
    "| **Cohen's d**      | Two independent groups                        | $(\\text{mean}_1 - \\text{mean}_2) / \\text{pooled std}$         |\n",
    "| **Paired d**       | Same group measured twice (pre/post)          | $(\\text{mean}_\\text{diff}) / \\text{std}_\\text{diff}$          |\n",
    "| **Glass’s delta**  | Two groups, assume only control std known     | $(\\text{mean}_1 - \\text{mean}_2) / \\text{std}_\\text{control}$ |\n",
    "| **Cohen’s f / η²** | More than two groups (ANOVA)                  | Variance between groups vs. within-group variance             |\n",
    "| **f² (R² change)** | Regression / multiple predictors              | $(R^2 / (1 - R^2))$                                           |\n",
    "\n",
    "\n",
    "**why `numeric_effectsize()` and What It Assumes**\n",
    "\n",
    "In building A/B testing workflows, our tyipical situation looks like this:\n",
    "\n",
    "- We have historical data from the control group\n",
    "- We expect a specific improvement (e.g., +3 units)\n",
    "- We need to quickly estimate the standardized effect size for power analysis\n",
    "\n",
    "So we created numeric_effectsize() — a focused utility designed specifically for:\n",
    "\n",
    "✅ Two-group A/B tests    \n",
    "✅ Independent samples    \n",
    "✅ Can compute pooled standard deviation if you provide `std1`, `std2`, `n1`, and `n2`    \n",
    "✅ Otherwise, it assumes equal variance between the two groups by default    \n",
    "\n"
   ]
  },
  {
   "cell_type": "code",
   "execution_count": 10,
   "id": "e4550bb3",
   "metadata": {},
   "outputs": [
    {
     "name": "stdout",
     "output_type": "stream",
     "text": [
      "Cohen's d: 0.250\n",
      "Cohen's d: 0.250\n"
     ]
    }
   ],
   "source": [
    "# You’re planning to test a change in UI, and you believe it will improve the average purchase amount.\n",
    "\n",
    "# Historical average: $100\n",
    "# Expected increase: $5 (i.e., new mean = $105)\n",
    "# Historical standard deviation: $20\n",
    "# You want to compute the standardized effect size to plug into your power analysis.\n",
    "\n",
    "# option 1: using means directly\n",
    "d = sut.numeric_effectsize(mean1=105, mean2=100, std=20)\n",
    "print(f\"Cohen's d: {d:.3f}\")\n",
    "\n",
    "# option 2: using mean difference\n",
    "d = sut.numeric_effectsize(mean_diff=5, std=20)\n",
    "print(f\"Cohen's d: {d:.3f}\")"
   ]
  },
  {
   "cell_type": "markdown",
   "id": "98481fda",
   "metadata": {},
   "source": [
    "## 5 Integration with MLArena's A/B Testing Workflow\n",
    "\n",
    "Combine power analysis with MLArena's existing A/B testing capabilities:\n",
    "\n",
    "#### TODO: Add 1) Stratification Optimization, 2) Group Comparison beforehand, and 3) Group Comparision afterwards"
   ]
  },
  {
   "cell_type": "code",
   "execution_count": 11,
   "id": "295a28be",
   "metadata": {},
   "outputs": [
    {
     "name": "stdout",
     "output_type": "stream",
     "text": [
      "STEP 1: Plan Test with Power Analysis\n",
      "========================================\n",
      "Need 8,143 users per group\n",
      "\n",
      "STEP 2: Create Stratified Groups\n",
      "===================================\n"
     ]
    },
    {
     "name": "stdout",
     "output_type": "stream",
     "text": [
      "Created 16286 user assignments\n",
      "Group distribution:\n",
      "stratified_group\n",
      "treatment    8143\n",
      "control      8143\n",
      "Name: count, dtype: int64\n",
      "\n",
      "STEP 3: Analyze Test Results\n",
      "================================\n",
      "Test results summary:\n",
      "target_var  p_value  effect_size  is_significant\n",
      " converted 0.000252     0.028681            True\n",
      "\n",
      "Control conversion: 4.8%\n",
      "Treatment conversion: 6.1%\n",
      "Lift: 27.4%\n"
     ]
    }
   ],
   "source": [
    "# Example workflow combining power analysis with existing MLArena functions\n",
    "from mlarena.utils.stats_utils import compare_groups, add_stratified_groups\n",
    "\n",
    "# Step 1: Plan our test with power analysis\n",
    "print(\"STEP 1: Plan Test with Power Analysis\")\n",
    "print(\"=\" * 40)\n",
    "target_sample = sut.sample_size_proportion(0.05, 0.06, power=0.8)\n",
    "print(f\"Need {target_sample['sample_size_per_group']:,} users per group\")\n",
    "\n",
    "# Step 2: Create properly stratified groups (if applicable)\n",
    "print(\"\\nSTEP 2: Create Stratified Groups\")\n",
    "print(\"=\" * 35)\n",
    "# Simulate user data with characteristics to stratify on\n",
    "user_data = pd.DataFrame({\n",
    "    'user_id': range(target_sample['total_sample_size']),\n",
    "    'region': np.random.choice(['North', 'South', 'East', 'West'], target_sample['total_sample_size']),\n",
    "    'user_segment': np.random.choice(['New', 'Returning', 'VIP'], target_sample['total_sample_size']),\n",
    "    'metric1': np.random.normal(100, 15, target_sample['total_sample_size'])\n",
    "})\n",
    "\n",
    "# Add stratified A/B groups\n",
    "stratified_data = add_stratified_groups(\n",
    "    user_data, \n",
    "    stratifier_col=['region', 'user_segment'],\n",
    "    group_labels=('control', 'treatment')\n",
    ")\n",
    "\n",
    "print(f\"Created {len(stratified_data)} user assignments\")\n",
    "print(\"Group distribution:\")\n",
    "print(stratified_data['stratified_group'].value_counts())\n",
    "\n",
    "# Step 3: After test completion, analyze results\n",
    "print(\"\\nSTEP 3: Analyze Test Results\")\n",
    "print(\"=\" * 32)\n",
    "# Simulate test completion with results\n",
    "stratified_data['converted'] = np.where(\n",
    "    stratified_data['stratified_group'] == 'control',\n",
    "    np.random.binomial(1, 0.05, len(stratified_data)),\n",
    "    np.random.binomial(1, 0.06, len(stratified_data))\n",
    ")\n",
    "\n",
    "# Use compare_groups to validate results\n",
    "effect_size, summary = compare_groups(\n",
    "    stratified_data.copy().assign(converted=stratified_data['converted'].astype(str)),\n",
    "    'stratified_group', \n",
    "    ['converted'],\n",
    "    cat_test='chi2'\n",
    ")\n",
    "\n",
    "print(\"Test results summary:\")\n",
    "print(summary[['target_var', 'p_value', 'effect_size', 'is_significant']].to_string(index=False))\n",
    "\n",
    "control_rate = stratified_data[stratified_data['stratified_group']=='control']['converted'].mean()\n",
    "treatment_rate = stratified_data[stratified_data['stratified_group']=='treatment']['converted'].mean()\n",
    "print(f\"\\nControl conversion: {control_rate:.1%}\")\n",
    "print(f\"Treatment conversion: {treatment_rate:.1%}\")\n",
    "print(f\"Lift: {(treatment_rate-control_rate)/control_rate:.1%}\")"
   ]
  }
 ],
 "metadata": {
  "kernelspec": {
   "display_name": ".venv",
   "language": "python",
   "name": "python3"
  },
  "language_info": {
   "codemirror_mode": {
    "name": "ipython",
    "version": 3
   },
   "file_extension": ".py",
   "mimetype": "text/x-python",
   "name": "python",
   "nbconvert_exporter": "python",
   "pygments_lexer": "ipython3",
   "version": "3.11.9"
  }
 },
 "nbformat": 4,
 "nbformat_minor": 5
}
