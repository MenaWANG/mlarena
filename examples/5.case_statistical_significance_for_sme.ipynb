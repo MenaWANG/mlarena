{
 "cells": [
  {
   "cell_type": "markdown",
   "id": "c9bd7c4b",
   "metadata": {},
   "source": [
    "# Spot A Difference? -- A Guide for Business Decision-Makers"
   ]
  },
  {
   "cell_type": "code",
   "execution_count": 26,
   "id": "019c1165",
   "metadata": {},
   "outputs": [],
   "source": [
    "# Import required libraries\n",
    "import os\n",
    "import multiprocessing\n",
    "import numpy as np\n",
    "import pandas as pd\n",
    "import matplotlib.pyplot as plt\n",
    "from mlarena.utils.plot_utils import plot_box_scatter\n",
    "import warnings\n",
    "warnings.filterwarnings('ignore')\n",
    "\n",
    "# Set random seed for reproducible results\n",
    "np.random.seed(42)\n",
    "\n",
    "# Configure plotting\n",
    "colors = plt.rcParams[\"axes.prop_cycle\"].by_key()[\"color\"]\n",
    "MPL_BLUE = colors[0]  # Main distribution/points color\n",
    "MPL_RED = colors[3]  # Highlight influential points\n",
    "MPL_YELLOW = colors[1]  # Highlight influential points\n",
    "MPL_GREEN = colors[2]  # Highlight influential points\n",
    "\n",
    "# Configure parallel processing\n",
    "# Only needed when running locally (not required on distributed platforms like Databricks)\n",
    "n_cores = multiprocessing.cpu_count()\n",
    "n_jobs = max(1, n_cores // 2)  # Use half of available cores to avoid overloading\n",
    "os.environ[\"LOKY_MAX_CPU_COUNT\"] = str(n_jobs)"
   ]
  },
  {
   "cell_type": "markdown",
   "id": "c417f846",
   "metadata": {},
   "source": [
    "# A Mean Difference Discovered"
   ]
  },
  {
   "cell_type": "code",
   "execution_count": 167,
   "id": "9aea740d",
   "metadata": {},
   "outputs": [
    {
     "data": {
      "image/png": "[encoded data removed]",
      "text/plain": [
       "<Figure size 800x600 with 1 Axes>"
      ]
     },
     "metadata": {},
     "output_type": "display_data"
    },
    {
     "name": "stdout",
     "output_type": "stream",
     "text": [
      "📊 Typical executive presentation: Store A appears to outperform Store B.\n",
      "💭 Initial reaction: 'Store B clearly needs intervention'\n",
      "⚠️  But wait... this chart only shows averages. What's the full story?\n"
     ]
    }
   ],
   "source": [
    "# Create the typical executive presentation: a bar chart\n",
    "fig, ax = plt.subplots(figsize=(8, 6))\n",
    "\n",
    "teams = ['Store A', 'Store B']\n",
    "satisfaction_means = [80, 75]\n",
    "\n",
    "# Create dramatic-looking bar chart with narrow y-axis range\n",
    "bars = ax.bar(teams, satisfaction_means, color=[MPL_BLUE, MPL_RED], alpha=0.7)\n",
    "ax.set_ylim(50, 85)  # Narrow range makes difference look dramatic\n",
    "ax.set_ylabel('Satisfaction Score', fontsize=12)\n",
    "ax.set_title('Customer Satisfaction Survey Results', fontsize=14, fontweight='bold')\n",
    "# Add value labels on bars\n",
    "for bar, value in zip(bars, satisfaction_means):\n",
    "    height = bar.get_height()\n",
    "    ax.text(bar.get_x() + bar.get_width()/2., height + 0.5, f'{value}',\n",
    "            ha='center', va='bottom', fontsize=11, fontweight='bold')\n",
    "ax.grid(True, alpha=0.3)\n",
    "plt.tight_layout()\n",
    "plt.show()\n",
    "\n",
    "print(\"📊 Typical executive presentation: Store A appears to outperform Store B.\")\n",
    "print(\"💭 Initial reaction: 'Store B clearly needs intervention'\")\n",
    "print(\"⚠️  But wait... this chart only shows averages. What's the full story?\")"
   ]
  },
  {
   "cell_type": "markdown",
   "id": "cbb5169e",
   "metadata": {},
   "source": [
    "### The Problem with Bar Charts\n",
    "\n",
    "**Bar charts only show averages - they hide the complete story.**\n",
    "\n",
    "Before making costly organizational decisions based on a mean difference, we need to understand:\n",
    "- How much variation exists within each team?\n",
    "- How confident can we be that this difference is real?\n",
    "- Is this difference large enough to justify intervention costs?\n",
    "\n",
    "**Key Takeaway**: Before making costly decisions, we need to see the complete picture.\n",
    "\n",
    "---"
   ]
  },
  {
   "cell_type": "markdown",
   "id": "ca3073b7",
   "metadata": {},
   "source": [
    "# What the Bar Chart Hides - The Rest of the Story\n",
    "\n",
    "The same 5-point mean difference can represent completely different business realities. Let's examine three scenarios that would all produce **identical bar charts** but require **completely different business decisions**."
   ]
  },
  {
   "cell_type": "markdown",
   "id": "1e8d5f40",
   "metadata": {},
   "source": [
    "## Same Bar Chart: Three Different Scenarios"
   ]
  },
  {
   "cell_type": "code",
   "execution_count": 153,
   "id": "f04bd7f5",
   "metadata": {},
   "outputs": [
    {
     "name": "stdout",
     "output_type": "stream",
     "text": [
      "📋 Generated three scenarios:\n",
      "Scenario A: 50 sample per store, low variance\n",
      "  Store A mean: 80\n",
      "  Store B mean: 75\n",
      "Scenario B: 50 sample per store, high variance\n",
      "  Store A mean: 80\n",
      "  Store B mean: 75\n",
      "Scenario C: 500 sample per store, high variance\n",
      "  Store A mean: 80\n",
      "  Store B mean: 75\n",
      "\n",
      "✅ All scenarios have the same 5-point mean difference\n",
      "❓ But do they tell the same business story?\n"
     ]
    }
   ],
   "source": [
    "# Generate three different scenarios with identical means but different statistical stories\n",
    "\n",
    "# Scenario A: Small sample, small variance\n",
    "np.random.seed(123)\n",
    "store_a_scenario_a = np.random.normal(80, 10, 50)  \n",
    "store_b_scenario_a = np.random.normal(75, 10, 50)  \n",
    "scenario_a = pd.DataFrame({\n",
    "    'store': ['Store A'] * 50 + ['Store B'] * 50,\n",
    "    'satisfaction': np.concatenate([store_a_scenario_a, store_b_scenario_a])\n",
    "})\n",
    "\n",
    "# Scenario B: Small sample, large variance (noisy signal) \n",
    "np.random.seed(48)\n",
    "store_a_scenario_b = np.random.normal(80, 20, 50)  \n",
    "store_b_scenario_b = np.random.normal(75, 20, 50)  \n",
    "scenario_b = pd.DataFrame({\n",
    "    'store': ['Store A'] * 50 + ['Store B'] * 50,\n",
    "    'satisfaction': np.concatenate([store_a_scenario_b, store_b_scenario_b])\n",
    "})\n",
    "\n",
    "# Scenario C: Large sample, same large variance as B (more power)\n",
    "np.random.seed(20)\n",
    "store_a_scenario_c = np.random.normal(80, 20, 500)  \n",
    "store_b_scenario_c = np.random.normal(75, 20, 500)  \n",
    "scenario_c = pd.DataFrame({\n",
    "    'store': ['Store A'] * 500 + ['Store B'] * 500,\n",
    "    'satisfaction': np.concatenate([store_a_scenario_c, store_b_scenario_c])\n",
    "})\n",
    "\n",
    "print(\"📋 Generated three scenarios:\")\n",
    "mean_a_a = scenario_a[scenario_a['store'] == 'Store A']['satisfaction'].mean()\n",
    "mean_b_a = scenario_a[scenario_a['store'] == 'Store B']['satisfaction'].mean()\n",
    "mean_a_b = scenario_b[scenario_b['store'] == 'Store A']['satisfaction'].mean()\n",
    "mean_b_b = scenario_b[scenario_b['store'] == 'Store B']['satisfaction'].mean()\n",
    "mean_a_c = scenario_c[scenario_c['store'] == 'Store A']['satisfaction'].mean()\n",
    "mean_b_c = scenario_c[scenario_c['store'] == 'Store B']['satisfaction'].mean()\n",
    "print(f\"Scenario A: {len(scenario_a)//2} sample per store, low variance\")\n",
    "print(f\"  Store A mean: {mean_a_a:.0f}\")\n",
    "print(f\"  Store B mean: {mean_b_a:.0f}\")\n",
    "print(f\"Scenario B: {len(scenario_b)//2} sample per store, high variance\")\n",
    "print(f\"  Store A mean: {mean_a_b:.0f}\")\n",
    "print(f\"  Store B mean: {mean_b_b:.0f}\")\n",
    "print(f\"Scenario C: {len(scenario_c)//2} sample per store, high variance\")\n",
    "print(f\"  Store A mean: {mean_a_c:.0f}\")\n",
    "print(f\"  Store B mean: {mean_b_c:.0f}\")\n",
    "print(\"\\n✅ All scenarios have the same 5-point mean difference\")\n",
    "print(\"❓ But do they tell the same business story?\")\n"
   ]
  }
 ],
 "metadata": {
  "kernelspec": {
   "display_name": ".venv",
   "language": "python",
   "name": "python3"
  },
  "language_info": {
   "codemirror_mode": {
    "name": "ipython",
    "version": 3
   },
   "file_extension": ".py",
   "mimetype": "text/x-python",
   "name": "python",
   "nbconvert_exporter": "python",
   "pygments_lexer": "ipython3",
   "version": "3.11.9"
  }
 },
 "nbformat": 4,
 "nbformat_minor": 5
}
