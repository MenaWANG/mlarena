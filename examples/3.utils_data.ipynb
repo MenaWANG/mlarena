{
 "cells": [
  {
   "cell_type": "markdown",
   "metadata": {},
   "source": [
    "# `mlarena.utils.data_utils` Demo\n",
    "\n",
    "This notebook serves as a demonstration of the various data cleaning and manipulation utilities available in the `mlarena.utils.data_utils` module. "
   ]
  },
  {
   "cell_type": "code",
   "execution_count": 3,
   "metadata": {},
   "outputs": [],
   "source": [
    "import mlarena.utils.data_utils as dut\n",
    "import pandas as pd"
   ]
  },
  {
   "cell_type": "markdown",
   "metadata": {},
   "source": [
    "# 1. Transform Data Columns\n",
    "\n",
    "It is common for a dataframe to have date columns stored as strings. This handy function `transform_date_cols` helps you transform them. \n",
    "\n",
    "- Flexible input handling: Works with either a single column or multiple columns\n",
    "- Format customization: Supports any date format using standard Python strftime directives\n",
    "    - %d: Day of the month as a zero-padded decimal (e.g., 25)\n",
    "    - %m: Month as a zero-padded decimal number (e.g., 08)\n",
    "    - %b: Abbreviated month name (e.g., Aug)\n",
    "    - %Y: Four-digit year (e.g., 2024)\n",
    "- Smart case handling: Automatically normalizes month abbreviations (like 'JAN', 'jan', 'Jan') when using %b format\n",
    "- Type safety: Preserves existing datetime columns without unnecessary conversion\n"
   ]
  },
  {
   "cell_type": "code",
   "execution_count": 12,
   "metadata": {},
   "outputs": [
    {
     "name": "stdout",
     "output_type": "stream",
     "text": [
      "date1         object\n",
      "date2         object\n",
      "date3         object\n",
      "date4         object\n",
      "not_a_date    object\n",
      "dtype: object\n"
     ]
    }
   ],
   "source": [
    "# Sample DataFrame with different date formats\n",
    "df_test = pd.DataFrame({\n",
    "    \"date1\": [\"20240101\", \"20240215\", \"20240320\"],\n",
    "    \"date2\": [\"25-08-2024\", \"15-09-2024\", \"01-10-2024\"],\n",
    "    \"date3\": [\"25Aug2024\", \"15AUG2024\", \"01aug2024\"],  # different cases\n",
    "    \"date4\": [\"20240801\", \"20240915\", \"20240311\"],\n",
    "    \"not_a_date\": [123, \"abc\", None]\n",
    "})\n",
    "print(df_test.dtypes)"
   ]
  },
  {
   "cell_type": "code",
   "execution_count": 13,
   "metadata": {},
   "outputs": [
    {
     "name": "stdout",
     "output_type": "stream",
     "text": [
      "date1         datetime64[ns]\n",
      "date2         datetime64[ns]\n",
      "date3         datetime64[ns]\n",
      "date4         datetime64[ns]\n",
      "not_a_date            object\n",
      "dtype: object\n",
      "       date1      date2      date3      date4 not_a_date\n",
      "0 2024-01-01 2024-08-25 2024-08-25 2024-08-01        123\n",
      "1 2024-02-15 2024-09-15 2024-08-15 2024-09-15        abc\n",
      "2 2024-03-20 2024-10-01 2024-08-01 2024-03-11       None\n"
     ]
    }
   ],
   "source": [
    "# Apply the function \n",
    "df_result = dut.transform_date_cols(df_test, [\"date1\", \"date4\"], \"%Y%m%d\") # take a list\n",
    "df_result = dut.transform_date_cols(df_result, \"date2\", \"%d-%m-%Y\") # take one column\n",
    "df_result = dut.transform_date_cols(df_result, [\"date3\"], \"%d%b%Y\") # handle column with different cases automatically\n",
    "\n",
    "# Display result\n",
    "print(df_result.dtypes)\n",
    "print(df_result)"
   ]
  }
 ],
 "metadata": {
  "kernelspec": {
   "display_name": ".test_venv",
   "language": "python",
   "name": "python3"
  },
  "language_info": {
   "codemirror_mode": {
    "name": "ipython",
    "version": 3
   },
   "file_extension": ".py",
   "mimetype": "text/x-python",
   "name": "python",
   "nbconvert_exporter": "python",
   "pygments_lexer": "ipython3",
   "version": "3.11.9"
  }
 },
 "nbformat": 4,
 "nbformat_minor": 2
}
